{
 "cells": [
  {
   "cell_type": "code",
   "execution_count": 9,
   "metadata": {},
   "outputs": [
    {
     "ename": "IndentationError",
     "evalue": "expected an indented block (<ipython-input-9-782e335173c1>, line 3)",
     "output_type": "error",
     "traceback": [
      "\u001b[1;36m  File \u001b[1;32m\"<ipython-input-9-782e335173c1>\"\u001b[1;36m, line \u001b[1;32m3\u001b[0m\n\u001b[1;33m    def _init_(self, name, age):\u001b[0m\n\u001b[1;37m      ^\u001b[0m\n\u001b[1;31mIndentationError\u001b[0m\u001b[1;31m:\u001b[0m expected an indented block\n"
     ]
    }
   ],
   "source": [
    "class Dog():\n",
    "    \n",
    "def _init_(self, name, age): \n",
    "    self.name = name \n",
    "    self.age = age \n",
    "def sit(self): \n",
    "    print(self.name.title() + \"is now sitting\")\n",
    "def roll over(self): \n",
    "    print(self.name.title() + \"rolled over!\") \n",
    "    \n",
    "my_dog = Dog('Willie', 6) \n",
    "\n",
    "print(\"My dog's name is\" + my_dog.name.title() + \".\") \n",
    "print(\"My dog is\" + str(my_dog.age) + \"years old.\") \n",
    "\n",
    "# Output should be \"My dog's name is Willie\"\n",
    "# \"My dog is 6 years old\""
   ]
  },
  {
   "cell_type": "code",
   "execution_count": 2,
   "metadata": {},
   "outputs": [
    {
     "ename": "NameError",
     "evalue": "name 'my_dog' is not defined",
     "output_type": "error",
     "traceback": [
      "\u001b[1;31m---------------------------------------------------------------------------\u001b[0m",
      "\u001b[1;31mNameError\u001b[0m                                 Traceback (most recent call last)",
      "\u001b[1;32m<ipython-input-2-81696514800a>\u001b[0m in \u001b[0;36m<module>\u001b[1;34m\u001b[0m\n\u001b[1;32m----> 1\u001b[1;33m \u001b[0mmy_dog\u001b[0m\u001b[1;33m.\u001b[0m\u001b[0msit\u001b[0m\u001b[1;33m(\u001b[0m\u001b[1;33m)\u001b[0m\u001b[1;33m\u001b[0m\u001b[1;33m\u001b[0m\u001b[0m\n\u001b[0m\u001b[0;32m      2\u001b[0m \u001b[0mmy_dog\u001b[0m\u001b[1;33m.\u001b[0m\u001b[0mroll_over\u001b[0m\u001b[1;33m(\u001b[0m\u001b[1;33m)\u001b[0m\u001b[1;33m\u001b[0m\u001b[1;33m\u001b[0m\u001b[0m\n\u001b[0;32m      3\u001b[0m \u001b[1;31m# Output should be \"Willie is now sitting.\"\u001b[0m\u001b[1;33m\u001b[0m\u001b[1;33m\u001b[0m\u001b[1;33m\u001b[0m\u001b[0m\n\u001b[0;32m      4\u001b[0m \u001b[1;31m# \"Willie rolled over! \"\u001b[0m\u001b[1;33m\u001b[0m\u001b[1;33m\u001b[0m\u001b[1;33m\u001b[0m\u001b[0m\n",
      "\u001b[1;31mNameError\u001b[0m: name 'my_dog' is not defined"
     ]
    }
   ],
   "source": [
    "my_dog.sit() \n",
    "my_dog.roll_over() \n",
    "# Output should be \"Willie is now sitting.\" \n",
    "# \"Willie rolled over! \""
   ]
  },
  {
   "cell_type": "code",
   "execution_count": 1,
   "metadata": {},
   "outputs": [
    {
     "ename": "NameError",
     "evalue": "name 'Dog' is not defined",
     "output_type": "error",
     "traceback": [
      "\u001b[1;31m---------------------------------------------------------------------------\u001b[0m",
      "\u001b[1;31mNameError\u001b[0m                                 Traceback (most recent call last)",
      "\u001b[1;32m<ipython-input-1-f5938b84200e>\u001b[0m in \u001b[0;36m<module>\u001b[1;34m\u001b[0m\n\u001b[1;32m----> 1\u001b[1;33m \u001b[0mmy_dog\u001b[0m \u001b[1;33m=\u001b[0m \u001b[0mDog\u001b[0m\u001b[1;33m(\u001b[0m\u001b[1;34m'Willie'\u001b[0m\u001b[1;33m,\u001b[0m \u001b[1;36m6\u001b[0m\u001b[1;33m)\u001b[0m\u001b[1;33m\u001b[0m\u001b[1;33m\u001b[0m\u001b[0m\n\u001b[0m\u001b[0;32m      2\u001b[0m \u001b[0myour_dog\u001b[0m \u001b[1;33m=\u001b[0m \u001b[0mDog\u001b[0m\u001b[1;33m(\u001b[0m\u001b[1;34m'Lucy'\u001b[0m\u001b[1;33m,\u001b[0m \u001b[1;36m3\u001b[0m\u001b[1;33m)\u001b[0m\u001b[1;33m\u001b[0m\u001b[1;33m\u001b[0m\u001b[0m\n\u001b[0;32m      3\u001b[0m \u001b[1;33m\u001b[0m\u001b[0m\n\u001b[0;32m      4\u001b[0m \u001b[0mprint\u001b[0m\u001b[1;33m(\u001b[0m\u001b[1;34m\"My dog's name is\"\u001b[0m \u001b[1;33m+\u001b[0m \u001b[0mWillie\u001b[0m\u001b[1;33m.\u001b[0m\u001b[0mtitle\u001b[0m\u001b[1;33m(\u001b[0m\u001b[0mWillie\u001b[0m\u001b[1;33m)\u001b[0m \u001b[1;33m+\u001b[0m \u001b[1;34m\".\"\u001b[0m\u001b[1;33m)\u001b[0m\u001b[1;33m\u001b[0m\u001b[1;33m\u001b[0m\u001b[0m\n\u001b[0;32m      5\u001b[0m \u001b[0mprint\u001b[0m\u001b[1;33m(\u001b[0m\u001b[1;34m\"My dog is\"\u001b[0m \u001b[1;33m+\u001b[0m \u001b[0mstr\u001b[0m\u001b[1;33m(\u001b[0m\u001b[1;36m6\u001b[0m\u001b[1;33m)\u001b[0m \u001b[1;33m+\u001b[0m \u001b[1;34m\"years old.\"\u001b[0m\u001b[1;33m)\u001b[0m\u001b[1;33m\u001b[0m\u001b[1;33m\u001b[0m\u001b[0m\n",
      "\u001b[1;31mNameError\u001b[0m: name 'Dog' is not defined"
     ]
    }
   ],
   "source": [
    "my_dog = Dog('Willie', 6) \n",
    "your_dog = Dog('Lucy', 3) \n",
    "\n",
    "print(\"My dog's name is\" + Willie.title(Willie) + \".\") \n",
    "print(\"My dog is\" + str(6) + \"years old.\") \n",
    "my_dog.sit(Willie) \n",
    "print(\"/nYour dog's name is\" + your_dog.name.title(Lucy) + \".\") \n",
    "print(\"Your dog is\" + str(Lucy, 3) + \"years old.\") \n",
    "your_dog.sit(Lucy) "
   ]
  },
  {
   "cell_type": "code",
   "execution_count": 12,
   "metadata": {},
   "outputs": [
    {
     "ename": "SyntaxError",
     "evalue": "invalid syntax (<ipython-input-12-c60530857420>, line 3)",
     "output_type": "error",
     "traceback": [
      "\u001b[1;36m  File \u001b[1;32m\"<ipython-input-12-c60530857420>\"\u001b[1;36m, line \u001b[1;32m3\u001b[0m\n\u001b[1;33m    def _init_(self.restaurant_name, self.cusine_type)\u001b[0m\n\u001b[1;37m                   ^\u001b[0m\n\u001b[1;31mSyntaxError\u001b[0m\u001b[1;31m:\u001b[0m invalid syntax\n"
     ]
    }
   ],
   "source": [
    "# 9-1 \n",
    "class Restaurant(): \n",
    "def __init__(self, restaurant_name, cusine_type) \n",
    "self.restaurant_name = KFC\n",
    "self.cusine_type = Fried Chicken \n",
    "def describe_restaurant(KFC,Fried Chicken)\n",
    "def open_restaurant(Now Open!) \n",
    "print(describe_restaurant) \n",
    "print(open_restaurant)"
   ]
  },
  {
   "cell_type": "code",
   "execution_count": 13,
   "metadata": {},
   "outputs": [
    {
     "ename": "SyntaxError",
     "evalue": "invalid syntax (<ipython-input-13-e1b8d3345136>, line 2)",
     "output_type": "error",
     "traceback": [
      "\u001b[1;36m  File \u001b[1;32m\"<ipython-input-13-e1b8d3345136>\"\u001b[1;36m, line \u001b[1;32m2\u001b[0m\n\u001b[1;33m    def describe_restaurant(KFC, Fried Chicken, Now Open!)\u001b[0m\n\u001b[1;37m                                             ^\u001b[0m\n\u001b[1;31mSyntaxError\u001b[0m\u001b[1;31m:\u001b[0m invalid syntax\n"
     ]
    }
   ],
   "source": [
    "# 9-2 \n",
    "def describe_restaurant(KFC, Fried Chicken, Now Open!) \n",
    "print(describe_restaurant)"
   ]
  },
  {
   "cell_type": "code",
   "execution_count": 14,
   "metadata": {},
   "outputs": [
    {
     "ename": "IndentationError",
     "evalue": "expected an indented block (<ipython-input-14-bfcb08fcffea>, line 3)",
     "output_type": "error",
     "traceback": [
      "\u001b[1;36m  File \u001b[1;32m\"<ipython-input-14-bfcb08fcffea>\"\u001b[1;36m, line \u001b[1;32m3\u001b[0m\n\u001b[1;33m    def _init_(self.first_name, self.last_name, age)\u001b[0m\n\u001b[1;37m      ^\u001b[0m\n\u001b[1;31mIndentationError\u001b[0m\u001b[1;31m:\u001b[0m expected an indented block\n"
     ]
    }
   ],
   "source": [
    "# 9-3 \n",
    "class User(): \n",
    "def __init__(self.first_name, self.last_name, age) \n",
    "self.first_name = Kellen \n",
    "self.last_name = Barron \n",
    "self.age = 18 "
   ]
  },
  {
   "cell_type": "code",
   "execution_count": 1,
   "metadata": {},
   "outputs": [],
   "source": [
    "class Car(): \n",
    "    def __init__(self, make, model, year): \n",
    "        self.make = make \n",
    "        self.model = model \n",
    "        self.year = year \n",
    "        \n",
    "    def get_descriptive_name(self): \n",
    "        long_name = str(self.year) + '' + self.make + '' + self.model \n",
    "        my_new_car = Car('Audi', 'A4', 2016) \n",
    "        print(my_new_car.get_descriptive_name()) "
   ]
  },
  {
   "cell_type": "code",
   "execution_count": 2,
   "metadata": {},
   "outputs": [
    {
     "ename": "IndentationError",
     "evalue": "expected an indented block (<ipython-input-2-7f1c14cfb5ce>, line 3)",
     "output_type": "error",
     "traceback": [
      "\u001b[1;36m  File \u001b[1;32m\"<ipython-input-2-7f1c14cfb5ce>\"\u001b[1;36m, line \u001b[1;32m3\u001b[0m\n\u001b[1;33m    def _init_(self, restaurant_name, cusine_type)\u001b[0m\n\u001b[1;37m      ^\u001b[0m\n\u001b[1;31mIndentationError\u001b[0m\u001b[1;31m:\u001b[0m expected an indented block\n"
     ]
    }
   ],
   "source": [
    "# 9-4 \n",
    "class Restaurant(): \n",
    "def __init__(self, restaurant_name, cusine_type):  \n",
    "self.restaurant_name = KFC\n",
    "self.cusine_type = Fried Chicken \n",
    "def describe_restaurant(KFC,Fried Chicken)\n",
    "def open_restaurant(Now Open!) \n",
    "print(describe_restaurant) \n",
    "print(open_restaurant)\n",
    "def number_served(20) \n",
    "print(self, restaurant_name, cusine_type) \n",
    "print(number_served) "
   ]
  },
  {
   "cell_type": "code",
   "execution_count": 3,
   "metadata": {},
   "outputs": [
    {
     "ename": "IndentationError",
     "evalue": "expected an indented block (<ipython-input-3-da3e3dc13ddd>, line 3)",
     "output_type": "error",
     "traceback": [
      "\u001b[1;36m  File \u001b[1;32m\"<ipython-input-3-da3e3dc13ddd>\"\u001b[1;36m, line \u001b[1;32m3\u001b[0m\n\u001b[1;33m    def _init_(self.first_name, self.last_name, age)\u001b[0m\n\u001b[1;37m      ^\u001b[0m\n\u001b[1;31mIndentationError\u001b[0m\u001b[1;31m:\u001b[0m expected an indented block\n"
     ]
    }
   ],
   "source": [
    "# 9-5 \n",
    "class User(): \n",
    "def __init__(self.first_name, self.last_name, age) \n",
    "self.first_name = Kellen \n",
    "self.last_name = Barron \n",
    "self.age = 18 \n",
    "def increment_login_attempts(1) \n",
    "def reset_login_attempts(0) "
   ]
  },
  {
   "cell_type": "code",
   "execution_count": 5,
   "metadata": {},
   "outputs": [
    {
     "ename": "SyntaxError",
     "evalue": "invalid syntax (<ipython-input-5-2e8cbf0991e3>, line 2)",
     "output_type": "error",
     "traceback": [
      "\u001b[1;36m  File \u001b[1;32m\"<ipython-input-5-2e8cbf0991e3>\"\u001b[1;36m, line \u001b[1;32m2\u001b[0m\n\u001b[1;33m    class Ice Cream Stand():\u001b[0m\n\u001b[1;37m                  ^\u001b[0m\n\u001b[1;31mSyntaxError\u001b[0m\u001b[1;31m:\u001b[0m invalid syntax\n"
     ]
    }
   ],
   "source": [
    "# 9-6 \n",
    "class Ice Cream Stand(): \n",
    "    def __init__(self.flavors) \n",
    "    self.flavors = 'Vanilla', 'Chocolate', 'Strawberry' \n",
    "print(self.flavors) "
   ]
  },
  {
   "cell_type": "code",
   "execution_count": 6,
   "metadata": {},
   "outputs": [
    {
     "ename": "SyntaxError",
     "evalue": "invalid syntax (<ipython-input-6-4d13694bf1b1>, line 3)",
     "output_type": "error",
     "traceback": [
      "\u001b[1;36m  File \u001b[1;32m\"<ipython-input-6-4d13694bf1b1>\"\u001b[1;36m, line \u001b[1;32m3\u001b[0m\n\u001b[1;33m    def _init_(self.privileges)\u001b[0m\n\u001b[1;37m                   ^\u001b[0m\n\u001b[1;31mSyntaxError\u001b[0m\u001b[1;31m:\u001b[0m invalid syntax\n"
     ]
    }
   ],
   "source": [
    "# 9-7 \n",
    "class Admin(): \n",
    "    def __init__(self.privileges) \n",
    "    self.privileges = 'Can add post', 'Can delete post', 'Can ban user' \n",
    "    def show_privileges(self.privileges) "
   ]
  },
  {
   "cell_type": "code",
   "execution_count": 7,
   "metadata": {},
   "outputs": [
    {
     "ename": "SyntaxError",
     "evalue": "invalid syntax (<ipython-input-7-d8a7efd6bd41>, line 3)",
     "output_type": "error",
     "traceback": [
      "\u001b[1;36m  File \u001b[1;32m\"<ipython-input-7-d8a7efd6bd41>\"\u001b[1;36m, line \u001b[1;32m3\u001b[0m\n\u001b[1;33m    def _init_(self.privileges)\u001b[0m\n\u001b[1;37m                   ^\u001b[0m\n\u001b[1;31mSyntaxError\u001b[0m\u001b[1;31m:\u001b[0m invalid syntax\n"
     ]
    }
   ],
   "source": [
    "# 9-8 \n",
    "class Admin(): \n",
    "    def __init__(self.privileges) \n",
    "    self.privileges = 'Can add post', 'Can delete post', 'can ban user' \n",
    "    def show_privileges(self.privileges) "
   ]
  },
  {
   "cell_type": "code",
   "execution_count": 8,
   "metadata": {},
   "outputs": [
    {
     "ename": "SyntaxError",
     "evalue": "invalid syntax (<ipython-input-8-cd91c5220bdf>, line 3)",
     "output_type": "error",
     "traceback": [
      "\u001b[1;36m  File \u001b[1;32m\"<ipython-input-8-cd91c5220bdf>\"\u001b[1;36m, line \u001b[1;32m3\u001b[0m\n\u001b[1;33m    def get_range(85)\u001b[0m\n\u001b[1;37m                   ^\u001b[0m\n\u001b[1;31mSyntaxError\u001b[0m\u001b[1;31m:\u001b[0m invalid syntax\n"
     ]
    }
   ],
   "source": [
    "# 9-9 \n",
    "class Upgrade_Battery(): \n",
    "    def get_range(85) \n",
    "# This should check the battery size and set capacity which is 85. This is from one of the previous Try It's "
   ]
  },
  {
   "cell_type": "code",
   "execution_count": 10,
   "metadata": {},
   "outputs": [
    {
     "ename": "IndentationError",
     "evalue": "expected an indented block (<ipython-input-10-d802317e6dbd>, line 2)",
     "output_type": "error",
     "traceback": [
      "\u001b[1;36m  File \u001b[1;32m\"<ipython-input-10-d802317e6dbd>\"\u001b[1;36m, line \u001b[1;32m2\u001b[0m\n\u001b[1;33m    from car import car\u001b[0m\n\u001b[1;37m       ^\u001b[0m\n\u001b[1;31mIndentationError\u001b[0m\u001b[1;31m:\u001b[0m expected an indented block\n"
     ]
    }
   ],
   "source": [
    "class Car(): \n",
    "from car import car \n",
    "from electric_car import ElectricCar \n",
    "\n",
    "my_beetle = Car('Volkswagen', 'Beetle', 2016) \n",
    "print(my_beetle.get_descriptive_name()) \n",
    "\n",
    "my_tesla = ElectricCar('Tesla', 'Roadster', 2016) \n",
    "print(my_tesla.get_descriptive_name()) \n",
    "\n",
    "my_new_car.odometer_reading = 23 \n",
    "my_new_car.read_odometer(): "
   ]
  },
  {
   "cell_type": "code",
   "execution_count": 11,
   "metadata": {},
   "outputs": [
    {
     "ename": "SyntaxError",
     "evalue": "invalid syntax (<ipython-input-11-faa90f39d2b2>, line 5)",
     "output_type": "error",
     "traceback": [
      "\u001b[1;36m  File \u001b[1;32m\"<ipython-input-11-faa90f39d2b2>\"\u001b[1;36m, line \u001b[1;32m5\u001b[0m\n\u001b[1;33m    restaurant_cusine= Fried Chicken\u001b[0m\n\u001b[1;37m                                   ^\u001b[0m\n\u001b[1;31mSyntaxError\u001b[0m\u001b[1;31m:\u001b[0m invalid syntax\n"
     ]
    }
   ],
   "source": [
    "# 9-10 \n",
    "class Restaurant(): \n",
    "    from restaurant import restaurant \n",
    "    restaurant_name = KFC \n",
    "    restaurant_cusine= Fried Chicken "
   ]
  },
  {
   "cell_type": "code",
   "execution_count": 12,
   "metadata": {},
   "outputs": [
    {
     "ename": "IndentationError",
     "evalue": "expected an indented block (<ipython-input-12-cc46fce53d19>, line 3)",
     "output_type": "error",
     "traceback": [
      "\u001b[1;36m  File \u001b[1;32m\"<ipython-input-12-cc46fce53d19>\"\u001b[1;36m, line \u001b[1;32m3\u001b[0m\n\u001b[1;33m    def show_privileges(self.privileges)\u001b[0m\n\u001b[1;37m      ^\u001b[0m\n\u001b[1;31mIndentationError\u001b[0m\u001b[1;31m:\u001b[0m expected an indented block\n"
     ]
    }
   ],
   "source": [
    "# 9-11 \n",
    "class Admin(): \n",
    "    def show_privileges(self.privileges) \n",
    "# This tests to see if everything works "
   ]
  },
  {
   "cell_type": "code",
   "execution_count": 13,
   "metadata": {},
   "outputs": [
    {
     "ename": "IndentationError",
     "evalue": "expected an indented block (<ipython-input-13-5169dc558c97>, line 3)",
     "output_type": "error",
     "traceback": [
      "\u001b[1;36m  File \u001b[1;32m\"<ipython-input-13-5169dc558c97>\"\u001b[1;36m, line \u001b[1;32m3\u001b[0m\n\u001b[1;33m    class Admin():\u001b[0m\n\u001b[1;37m        ^\u001b[0m\n\u001b[1;31mIndentationError\u001b[0m\u001b[1;31m:\u001b[0m expected an indented block\n"
     ]
    }
   ],
   "source": [
    "# 9-12 \n",
    "class User(): \n",
    "class Admin(): \n",
    "    privileges = 'Can add post', 'Can delete post', 'Can ban user'\n",
    "def show_privileges(self.privileges) "
   ]
  },
  {
   "cell_type": "code",
   "execution_count": null,
   "metadata": {},
   "outputs": [],
   "source": []
  }
 ],
 "metadata": {
  "kernelspec": {
   "display_name": "Python 3",
   "language": "python",
   "name": "python3"
  },
  "language_info": {
   "codemirror_mode": {
    "name": "ipython",
    "version": 3
   },
   "file_extension": ".py",
   "mimetype": "text/x-python",
   "name": "python",
   "nbconvert_exporter": "python",
   "pygments_lexer": "ipython3",
   "version": "3.7.4"
  }
 },
 "nbformat": 4,
 "nbformat_minor": 2
}
