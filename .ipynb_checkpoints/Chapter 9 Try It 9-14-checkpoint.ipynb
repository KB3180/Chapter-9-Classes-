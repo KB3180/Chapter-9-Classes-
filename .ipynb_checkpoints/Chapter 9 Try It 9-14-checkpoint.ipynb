{
 "cells": [
  {
   "cell_type": "code",
   "execution_count": 1,
   "metadata": {},
   "outputs": [],
   "source": [
    "# Dice_Barron.py \n",
    "# Kellen Barron \n",
    "# A class choosing random numbers on dice \n",
    "\n",
    "# 9-14 \n",
    "\n"
   ]
  },
  {
   "cell_type": "code",
   "execution_count": 4,
   "metadata": {},
   "outputs": [
    {
     "ename": "IndentationError",
     "evalue": "expected an indented block (<ipython-input-4-69fa879a173a>, line 6)",
     "output_type": "error",
     "traceback": [
      "\u001b[1;36m  File \u001b[1;32m\"<ipython-input-4-69fa879a173a>\"\u001b[1;36m, line \u001b[1;32m6\u001b[0m\n\u001b[1;33m    def roll_dice(self.10_sides):\u001b[0m\n\u001b[1;37m                                  ^\u001b[0m\n\u001b[1;31mIndentationError\u001b[0m\u001b[1;31m:\u001b[0m expected an indented block\n"
     ]
    }
   ],
   "source": [
    "from random import randint \n",
    "x = randint (1, 6) \n",
    "\n",
    "class Dice(): \n",
    "    def sides(): \n",
    "def roll_dice(self.10_sides): \n",
    "def roll_dice(self.20_sides): \n",
    "    print('roll die'(4)) \n",
    "    # This should pick a random number when we roll the dice "
   ]
  },
  {
   "cell_type": "code",
   "execution_count": null,
   "metadata": {},
   "outputs": [],
   "source": []
  }
 ],
 "metadata": {
  "kernelspec": {
   "display_name": "Python 3",
   "language": "python",
   "name": "python3"
  },
  "language_info": {
   "codemirror_mode": {
    "name": "ipython",
    "version": 3
   },
   "file_extension": ".py",
   "mimetype": "text/x-python",
   "name": "python",
   "nbconvert_exporter": "python",
   "pygments_lexer": "ipython3",
   "version": "3.7.4"
  }
 },
 "nbformat": 4,
 "nbformat_minor": 2
}
